{
  "nbformat": 4,
  "nbformat_minor": 0,
  "metadata": {
    "kernelspec": {
      "display_name": "Python 3",
      "language": "python",
      "name": "python3"
    },
    "language_info": {
      "codemirror_mode": {
        "name": "ipython",
        "version": 3
      },
      "file_extension": ".py",
      "mimetype": "text/x-python",
      "name": "python",
      "nbconvert_exporter": "python",
      "pygments_lexer": "ipython3",
      "version": "3.6.9"
    },
    "colab": {
      "name": "rnns",
      "provenance": [],
      "collapsed_sections": []
    },
    "accelerator": "GPU"
  },
  "cells": [
    {
      "cell_type": "code",
      "metadata": {
        "id": "_b5YV4QTW8T0"
      },
      "source": [
        "!pip install -q catalyst nltk torchtext captum gdown"
      ],
      "execution_count": null,
      "outputs": []
    },
    {
      "cell_type": "markdown",
      "metadata": {
        "id": "NwIpHHLEW8T2"
      },
      "source": [
        "# Seminar\n",
        "\n",
        "Hi! Today we starts NLP section in our course. Starting with embeddings and Recurrent Neural Networks."
      ]
    },
    {
      "cell_type": "code",
      "metadata": {
        "id": "nXTxTf53W8T2"
      },
      "source": [
        "from catalyst.utils import set_global_seed, get_device\n",
        "\n",
        "set_global_seed(42)\n",
        "device = get_device()"
      ],
      "execution_count": null,
      "outputs": []
    },
    {
      "cell_type": "markdown",
      "metadata": {
        "id": "i2x-a-b3W8T3"
      },
      "source": [
        "## Text preprocessing\n",
        "\n",
        "Text preprocessing is the most important part of NLP. In comparison, an image is usually reshaped and normalized in a preprocessing pipeline. But a text is different. A text consists of words(or tokens), that has a different probability to be written. Words are arrays of characters, and different arrays can be related to one word(E.g. \"it\" and \"It\" or \"Имя\" and \"Имени\" is one word, but different word form.). That's why texts should be normalized and tokenized."
      ]
    },
    {
      "cell_type": "code",
      "metadata": {
        "id": "STkJFLfBW8T3"
      },
      "source": [
        "example = \"Hello! My name is <unk> and i'm <unk>.\""
      ],
      "execution_count": null,
      "outputs": []
    },
    {
      "cell_type": "code",
      "metadata": {
        "id": "4zQg8XjcW8T3"
      },
      "source": [
        "lower = example.lower()\n",
        "print(lower)"
      ],
      "execution_count": null,
      "outputs": []
    },
    {
      "cell_type": "code",
      "metadata": {
        "id": "_X2D3J6jW8T3"
      },
      "source": [
        "from nltk.tokenize import WordPunctTokenizer\n",
        "\n",
        "\n",
        "tokenizer = WordPunctTokenizer()\n",
        "tokens = tokenizer.tokenize(lower)\n",
        "print(tokens)"
      ],
      "execution_count": null,
      "outputs": []
    },
    {
      "cell_type": "markdown",
      "metadata": {
        "id": "GbjW75JJW8T4"
      },
      "source": [
        "Another part of the preprocessing is filtration. Every token has to be informative. Punctuation hasn't much information, and it should be deleted. Pronouns, prepositions, articles (and other small words) should be deleted too. Usually, they will not help to solve tasks."
      ]
    },
    {
      "cell_type": "code",
      "metadata": {
        "id": "BVKFBBEAW8T4"
      },
      "source": [
        "from string import punctuation\n",
        "\n",
        "filtered = [\n",
        "    token for token in tokens\n",
        "    if ((len(token) >= 3) and (token not in punctuation))\n",
        "]\n",
        "print(filtered)"
      ],
      "execution_count": null,
      "outputs": []
    },
    {
      "cell_type": "markdown",
      "metadata": {
        "id": "9NTu5vq-W8T4"
      },
      "source": [
        "Last part of preprocessing is adding special tokens. They means begining(`SOS`) or ending(`EOS`) of text/sentences, words out of vocabulary(`UNK`), padding for batching(`PAD`). A nueral networks can have other special tokens. For BERT some tokens should be masked. These tokens are swapped with `MASK` token."
      ]
    },
    {
      "cell_type": "code",
      "metadata": {
        "id": "9W3cvmY7W8T5"
      },
      "source": [
        "SOS = \"<SOS>\" # or <SOT>/<BOT>/<BOS>\n",
        "EOS = \"<EOS>\" # so on...\n",
        "PAD = \"<PAD>\"\n",
        "UNK = \"<UNK>\"\n",
        "\n",
        "# Sometimes\n",
        "MASK = \"<MASK>\" # Masked Langueage Models"
      ],
      "execution_count": null,
      "outputs": []
    },
    {
      "cell_type": "markdown",
      "metadata": {
        "id": "8nvmkASmW8T5"
      },
      "source": [
        "## Text Classification\n",
        "\n",
        "The most popular task in NLP is text classification. Before 2012, this task is solved by pair of Tf-iDf method and some classification model. But now we have embeddings vector, mapped from tokens to some big continious high dimensions real space. Read more about Embeddings: [NLP course for you](https://lena-voita.github.io/nlp_course/word_embeddings.html).\n",
        "\n",
        "For text classification we will use mean of embeddings for each text as a feature vector. Let's code this!"
      ]
    },
    {
      "cell_type": "code",
      "metadata": {
        "id": "M5M76wnpW8T5"
      },
      "source": [
        "import torch\n",
        "\n",
        "from torchtext.legacy.datasets import YelpReviewPolarity\n",
        "\n",
        "train_dataset, test_dataset = YelpReviewPolarity()\n",
        "vocab = train_dataset.get_vocab()\n",
        "vocab.load_vectors(\"glove.6B.300d\")"
      ],
      "execution_count": null,
      "outputs": []
    },
    {
      "cell_type": "markdown",
      "metadata": {
        "id": "OroGnxZZW8T6"
      },
      "source": [
        "Each text has different length, and we will build a batch by adding padding tokens at the end of the text. Effective way to do it by bucketing. However, it's not so easy to implement. So we will create simple padding."
      ]
    },
    {
      "cell_type": "code",
      "metadata": {
        "scrolled": true,
        "id": "l6FKOgREW8T6"
      },
      "source": [
        "from typing import Tuple\n",
        "\n",
        "from torch.utils.data import DataLoader\n",
        "\n",
        "\n",
        "PAD_ID = vocab.stoi[\"<pad>\"]\n",
        "\n",
        "\n",
        "def collate_fn(\n",
        "    batch: Tuple[torch.Tensor, torch.Tensor]\n",
        ") -> Tuple[torch.Tensor, torch.Tensor]:\n",
        "    texts = []\n",
        "    max_len = max(t.size(0) for _, t in batch)\n",
        "    labels = torch.zeros(len(batch))\n",
        "    for idx, (label, txt) in enumerate(batch):\n",
        "        new_txt = torch.zeros((1, max_len)) + PAD_ID\n",
        "        new_txt[0, : txt.size(0)] = txt\n",
        "        texts.append(new_txt)\n",
        "        labels[idx] = label\n",
        "    return torch.cat(texts).type(torch.LongTensor), labels\n",
        "\n",
        "\n",
        "batch_size = 256\n",
        "\n",
        "loaders = {\n",
        "    \"train\": DataLoader(\n",
        "        train_dataset,\n",
        "        batch_size=batch_size,\n",
        "        shuffle=True,\n",
        "        drop_last=True,\n",
        "        collate_fn=collate_fn,\n",
        "    ),\n",
        "    \"valid\": DataLoader(\n",
        "        test_dataset,\n",
        "        batch_size=batch_size,\n",
        "        shuffle=False,\n",
        "        drop_last=False,\n",
        "        collate_fn=collate_fn,\n",
        "    ),\n",
        "}"
      ],
      "execution_count": null,
      "outputs": []
    },
    {
      "cell_type": "markdown",
      "metadata": {
        "id": "YmU110jeW8T6"
      },
      "source": [
        "Our algorithm is this:\n",
        "- Get embeddings for each word\n",
        "- Get mean vector for text\n",
        "- Classify text by mean vector\n",
        "\n",
        "Let's code this."
      ]
    },
    {
      "cell_type": "code",
      "metadata": {
        "id": "T1aKiSVcW8T6"
      },
      "source": [
        "import torch.nn as nn\n",
        "from catalyst.contrib.nn import Lambda\n",
        "\n",
        "class EmbeddingModel(nn.Module):\n",
        "    def __init__(\n",
        "        self,\n",
        "        vocab_size: int,\n",
        "        embedding_size: int = 300,\n",
        "        hidden_size: int = 150,\n",
        "        dropout_p: float = 0.2,\n",
        "    ):\n",
        "        super().__init__()\n",
        "\n",
        "        self.embedding = nn.Embedding(vocab_size, embedding_size)\n",
        "        self.out = nn.Sequential(\n",
        "            Lambda(lambda x: x.reshape(x.size(0), embedding_size, x.size(1))),\n",
        "            nn.BatchNorm1d(embedding_size),\n",
        "            nn.Dropout2d(dropout_p),\n",
        "            Lambda(lambda x: x.mean(2)),\n",
        "            nn.Linear(embedding_size, hidden_size),\n",
        "            nn.BatchNorm1d(hidden_size),\n",
        "            nn.Dropout(dropout_p),\n",
        "            nn.ReLU(),\n",
        "            nn.Linear(hidden_size, 1),\n",
        "        )\n",
        "\n",
        "    def forward(self, input_ids: torch.Tensor) -> torch.Tensor:\n",
        "        embedded = self.embedding(input_ids)\n",
        "        return self.out(embedded).reshape(-1)"
      ],
      "execution_count": null,
      "outputs": []
    },
    {
      "cell_type": "markdown",
      "metadata": {
        "id": "ak_UWqi2W8T7"
      },
      "source": [
        "In next section, we will intepretate model's prediction. It works best with binary classificator with one output and we will train our model for this by changing criterion to `BCEWithLogitsLoss`.\n",
        "\n",
        "Create model, optimizer and criterion!"
      ]
    },
    {
      "cell_type": "code",
      "metadata": {
        "id": "V92z6HX6W8T7"
      },
      "source": [
        "from catalyst.contrib.nn import RAdam\n",
        "\n",
        "\n",
        "model = EmbeddingModel(len(vocab), dropout_p=0.2)\n",
        "optimizer = RAdam(model.parameters(), lr=1e-3)\n",
        "criterion = nn.BCEWithLogitsLoss()"
      ],
      "execution_count": null,
      "outputs": []
    },
    {
      "cell_type": "markdown",
      "metadata": {
        "id": "m9ifnXtLW8T7"
      },
      "source": [
        "Embeddings are difficult to train. We will use pretrained one."
      ]
    },
    {
      "cell_type": "code",
      "metadata": {
        "id": "1KhgsIuKW8T7"
      },
      "source": [
        "model.embedding.weight.data.copy_(vocab.vectors)"
      ],
      "execution_count": null,
      "outputs": []
    },
    {
      "cell_type": "code",
      "metadata": {
        "id": "WNPJrvDoW8T8"
      },
      "source": [
        "from catalyst.dl import SupervisedRunner, MultilabelAccuracyCallback\n",
        "        \n",
        "runner = SupervisedRunner()"
      ],
      "execution_count": null,
      "outputs": []
    },
    {
      "cell_type": "code",
      "metadata": {
        "id": "DRjGGUDiW8T8"
      },
      "source": [
        "from datetime import datetime\n",
        "from pathlib import Path\n",
        "\n",
        "\n",
        "logdir = Path(\"emb_logs\") / datetime.now().strftime(\"%Y%m%d-%H%M%S\")"
      ],
      "execution_count": null,
      "outputs": []
    },
    {
      "cell_type": "markdown",
      "metadata": {
        "id": "q90_OIhgW8T8"
      },
      "source": [
        "`AccuracyCallback` doesnt' work well with binary classificator. So, we change it to `MultiLabelAccuracyCallback`."
      ]
    },
    {
      "cell_type": "code",
      "metadata": {
        "id": "sa5f0uz_W8T8"
      },
      "source": [
        "runner.train(\n",
        "    model=model,\n",
        "    optimizer=optimizer,\n",
        "    criterion=criterion,\n",
        "    callbacks=[\n",
        "        MultilabelAccuracyCallback(input_key = \"logits\", target_key = \"targets\", threshold=0.5),\n",
        "    ],\n",
        "    loaders=loaders,\n",
        "    verbose=True,\n",
        "    num_epochs=1,\n",
        "    logdir=logdir,\n",
        "    valid_loader = \"valid\", \n",
        "    valid_metric = \"accuracy\"\n",
        ")"
      ],
      "execution_count": null,
      "outputs": []
    },
    {
      "cell_type": "markdown",
      "metadata": {
        "id": "H7VSveFXW8T8"
      },
      "source": [
        "### Model Interpretability\n",
        "\n",
        "Model's prediction interpretation is one of the ML-Engeenier task. To understand Neural Network prediction, we have great tool by PyTorch: [captum](https://github.com/pytorch/captum). It includes several algorithm, and we will use one (LayerIntegratedGradients, [arxiv](https://arxiv.org/pdf/1805.05492.pdf)) of them to understand which words influence on prediction."
      ]
    },
    {
      "cell_type": "code",
      "metadata": {
        "id": "g7rbv9fIW8T8"
      },
      "source": [
        "from torchtext.data.utils import get_tokenizer\n",
        "\n",
        "\n",
        "tokenize = get_tokenizer(\"basic_english\")"
      ],
      "execution_count": null,
      "outputs": []
    },
    {
      "cell_type": "code",
      "metadata": {
        "id": "AKpYCfrvW8T9"
      },
      "source": [
        "from typing import List\n",
        "from captum.attr import LayerIntegratedGradients, TokenReferenceBase, visualization\n",
        "\n",
        "\n",
        "token_reference = TokenReferenceBase(reference_token_idx=PAD_ID)\n",
        "lig = LayerIntegratedGradients(model, model.embedding)"
      ],
      "execution_count": null,
      "outputs": []
    },
    {
      "cell_type": "code",
      "metadata": {
        "id": "X0MnDGKmW8T9"
      },
      "source": [
        "# accumalate couple samples in this array for visualization purposes\n",
        "vis_data_records_ig = []\n",
        "\n",
        "def interpret_sentence(\n",
        "    model: nn.Module, sentence: str, min_len: int = 7, label: int = 0\n",
        "):\n",
        "    model.eval()\n",
        "    text = [tok for tok in tokenize(sentence)]\n",
        "    if len(text) < min_len:\n",
        "        text += [\"<pad>\"] * (min_len - len(text))\n",
        "    indexed = [vocab.stoi[t] for t in text]\n",
        "\n",
        "    model.zero_grad()\n",
        "\n",
        "    input_indices = torch.tensor(indexed, device=device)\n",
        "    input_indices = input_indices.unsqueeze(0)\n",
        "    \n",
        "    # input_indices dim: [sequence_length]\n",
        "    seq_length = min_len\n",
        "\n",
        "    # predict\n",
        "    pred = torch.sigmoid(model(input_indices)).item()\n",
        "    pred_label = \"pos\" if pred > 0.5 else \"neg\"\n",
        "\n",
        "    # generate reference indices for each sample\n",
        "    reference_indices = token_reference.generate_reference(\n",
        "        seq_length, device=device\n",
        "    ).unsqueeze(0)\n",
        "\n",
        "    # compute attributions and approximation delta using layer integrated gradients\n",
        "    attributions_ig, delta = lig.attribute(\n",
        "        input_indices,\n",
        "        reference_indices,\n",
        "        n_steps=5000,\n",
        "        return_convergence_delta=True,\n",
        "    )\n",
        "\n",
        "    print(f\"pred: {pred_label}({pred:.2}), delta: {abs(delta)}\")\n",
        "\n",
        "    add_attributions_to_visualizer(\n",
        "        attributions_ig,\n",
        "        text,\n",
        "        pred,\n",
        "        pred_label,\n",
        "        label,\n",
        "        delta,\n",
        "        vis_data_records_ig,\n",
        "    )\n",
        "\n",
        "def add_attributions_to_visualizer(\n",
        "    attributions: torch.Tensor,\n",
        "    text: str,\n",
        "    pred: int,\n",
        "    pred_ind: str,\n",
        "    label: int,\n",
        "    delta: float,\n",
        "    vis_data_records: List[visualization.VisualizationDataRecord],\n",
        "):\n",
        "    attributions = attributions.sum(dim=2).squeeze(0)\n",
        "    attributions = attributions / torch.norm(attributions)\n",
        "    attributions = attributions.cpu().detach().numpy()\n",
        "\n",
        "    # storing couple samples in an array for visualization purposes\n",
        "    vis_data_records.append(\n",
        "        visualization.VisualizationDataRecord(\n",
        "            attributions,\n",
        "            pred,\n",
        "            pred_ind,\n",
        "            label,\n",
        "            \"pos\" if label == 1 else \"neg\",\n",
        "            attributions.sum(),\n",
        "            text,\n",
        "            delta,\n",
        "        )\n",
        "    )"
      ],
      "execution_count": null,
      "outputs": []
    },
    {
      "cell_type": "markdown",
      "metadata": {
        "id": "b7w42DE7W8T9"
      },
      "source": [
        "We have few sentence for testing"
      ]
    },
    {
      "cell_type": "code",
      "metadata": {
        "id": "rr1vMo4xW8T9"
      },
      "source": [
        "interpret_sentence(model, \"It was a fantastic performance!\", label=1)\n",
        "interpret_sentence(model, \"Best film ever\", label=1)\n",
        "interpret_sentence(model, \"It was a horrible movie\", label=0)\n",
        "interpret_sentence(model, \"It is a disgusting movie!\", label=0)"
      ],
      "execution_count": null,
      "outputs": []
    },
    {
      "cell_type": "code",
      "metadata": {
        "id": "cwuDmT0HW8T-"
      },
      "source": [
        "print(\"Visualize attributions based on Integrated Gradients\")\n",
        "visualization.visualize_text(vis_data_records_ig)"
      ],
      "execution_count": null,
      "outputs": []
    },
    {
      "cell_type": "markdown",
      "metadata": {
        "id": "a3p8jRRMW8T-"
      },
      "source": [
        "## Part-of-Speech\n",
        "\n",
        "Move on from text classification to token classification. Tokens can include information like year, name, location and e.t.c. Or we try to analisy syntax of sentences by predcting part of speech for each token. Let's solve problem of part of speech prediction by a RNN neural network!"
      ]
    },
    {
      "cell_type": "code",
      "metadata": {
        "id": "7NhajLDRDree"
      },
      "source": [
        "from torchtext.legacy.datasets import CoNLL2000Chunking\n",
        "from torchtext.legacy import data"
      ],
      "execution_count": null,
      "outputs": []
    },
    {
      "cell_type": "code",
      "metadata": {
        "id": "qqY_zruRIWro"
      },
      "source": [
        "TEXT = data.Field(lower = True)\n",
        "TAGS = data.Field(unk_token = None)\n",
        "fields = ((\"text\", TEXT), (\"tags\", TAGS))"
      ],
      "execution_count": null,
      "outputs": []
    },
    {
      "cell_type": "code",
      "metadata": {
        "id": "iXAbxkeUBy1x"
      },
      "source": [
        "train_dataset, val_dataset, test_dataset  = CoNLL2000Chunking.splits(fields)"
      ],
      "execution_count": null,
      "outputs": []
    },
    {
      "cell_type": "code",
      "metadata": {
        "id": "u_x6qCfvHvW5"
      },
      "source": [
        "TEXT.build_vocab(train_dataset,\n",
        "                 vectors = \"glove.6B.300d\",\n",
        "                 unk_init = torch.Tensor.normal_)\n",
        "TAGS.build_vocab(train_dataset)"
      ],
      "execution_count": null,
      "outputs": []
    },
    {
      "cell_type": "code",
      "metadata": {
        "id": "kt67tALlPSji"
      },
      "source": [
        "def collate_batch(batch):\n",
        "    texts = []\n",
        "    token_types = []\n",
        "    max_len = max([len(example.text) for example in batch])\n",
        "    for idx, example in enumerate(batch):\n",
        "        new_txt = torch.zeros((1, max_len)) + PAD_ID\n",
        "        new_tt = torch.zeros((1, max_len)) + PAD_ID\n",
        "        txt = torch.tensor(TEXT.vocab.lookup_indices(example.text))\n",
        "        tt = torch.tensor(TAGS.vocab.lookup_indices(example.tags))\n",
        "        new_txt[0, : txt.size(0)] = txt\n",
        "        texts.append(new_txt)\n",
        "        new_tt[0, : tt.size(0)] = tt\n",
        "        token_types.append(new_tt)\n",
        "    return (\n",
        "        torch.cat(texts).type(torch.LongTensor),\n",
        "        torch.cat(token_types).type(torch.LongTensor),\n",
        "    )"
      ],
      "execution_count": null,
      "outputs": []
    },
    {
      "cell_type": "code",
      "metadata": {
        "id": "Km8CwhTOW8T-"
      },
      "source": [
        "batch_size = 256\n",
        "\n",
        "loaders = {\n",
        "    \"train\": DataLoader(\n",
        "        train_dataset,\n",
        "        batch_size=batch_size,\n",
        "        shuffle=True,\n",
        "        drop_last=True,\n",
        "        collate_fn = collate_batch\n",
        "    ),\n",
        "    \"valid\": DataLoader(\n",
        "        test_dataset,\n",
        "        batch_size=batch_size,\n",
        "        shuffle=False,\n",
        "        drop_last=False,\n",
        "        collate_fn = collate_batch\n",
        "    ),\n",
        "}"
      ],
      "execution_count": null,
      "outputs": []
    },
    {
      "cell_type": "markdown",
      "metadata": {
        "id": "StcaZAtSW8T-"
      },
      "source": [
        "Our POS-model now consist of three components:\n",
        "- Embeddigns layer\n",
        "- (multi or single layer) RNN\n",
        "- Classifier for each token\n",
        "\n",
        "RNN has three main architectures: simple RNN, LSTM and GRU. Choose one of them to solve our task."
      ]
    },
    {
      "cell_type": "code",
      "metadata": {
        "id": "H3FCuppnW8T_"
      },
      "source": [
        "class POSModel(nn.Module):\n",
        "    def __init__(\n",
        "        self,\n",
        "        vocab_size: int,\n",
        "        embedding_size: int = 300,\n",
        "        hidden_size: int = 150,\n",
        "        num_classes: int = 2,\n",
        "        dropout_p: float = 0.1,\n",
        "    ):\n",
        "        super().__init__()\n",
        "\n",
        "        self.embedding = nn.Embedding(vocab_size, embedding_size)\n",
        "        self.rnn = nn.LSTM(\n",
        "            embedding_size,\n",
        "            hidden_size,\n",
        "            num_layers=2,\n",
        "            dropout=dropout_p,\n",
        "            batch_first=True,\n",
        "        )\n",
        "        self.clf = nn.Linear(hidden_size, num_classes)\n",
        "\n",
        "    def forward(self, input_ids: torch.Tensor) -> torch.Tensor:\n",
        "        embedded = self.embedding(input_ids)\n",
        "        output, _ = self.rnn(embedded)\n",
        "        return self.clf(output)"
      ],
      "execution_count": null,
      "outputs": []
    },
    {
      "cell_type": "markdown",
      "metadata": {
        "id": "y1dfEwF8W8T_"
      },
      "source": [
        "Create model, optimizer and criterion. We want predict POS for each token. But, some tokens, like `PAD`, hasn't POS property(we don't know their POS). That's why we will ignore them.  "
      ]
    },
    {
      "cell_type": "code",
      "metadata": {
        "id": "5OnvodjyW8T_"
      },
      "source": [
        "model = POSModel(len(TEXT.vocab), dropout_p=0.1, num_classes=len(TAGS.vocab))\n",
        "optimizer = RAdam(model.parameters(), lr=1e-2)\n",
        "criterion = nn.CrossEntropyLoss(ignore_index=PAD_ID) # Ignore PAD token"
      ],
      "execution_count": null,
      "outputs": []
    },
    {
      "cell_type": "code",
      "metadata": {
        "id": "JQc62d0WW8T_"
      },
      "source": [
        "model.embedding.weight.data.copy_(TEXT.vocab.vectors)"
      ],
      "execution_count": null,
      "outputs": []
    },
    {
      "cell_type": "code",
      "metadata": {
        "id": "eKb4BxNOSeFX"
      },
      "source": [
        "SupervisedRunner.handle_batch"
      ],
      "execution_count": null,
      "outputs": []
    },
    {
      "cell_type": "code",
      "metadata": {
        "id": "br63xq5rW8T_"
      },
      "source": [
        "from typing import Dict\n",
        "\n",
        "\n",
        "class POSRunner(SupervisedRunner):\n",
        "    def handle_batch(self, batch: Dict[str, torch.Tensor]) -> None:\n",
        "        input_ids = batch[\"features\"]\n",
        "        pos_tags = batch[\"targets\"]\n",
        "        output = self.model(input_ids)\n",
        "\n",
        "        self.batch = {\n",
        "            \"input_ids\": input_ids,\n",
        "            \"targets\": pos_tags.reshape(-1),\n",
        "            \"logits\": output.reshape(-1, output.size(2)),\n",
        "        }"
      ],
      "execution_count": null,
      "outputs": []
    },
    {
      "cell_type": "code",
      "metadata": {
        "id": "DBHdefK6W8T_"
      },
      "source": [
        "logdir = Path(\"pos_logs\") / datetime.now().strftime(\"%Y%m%d-%H%M%S\")"
      ],
      "execution_count": null,
      "outputs": []
    },
    {
      "cell_type": "code",
      "metadata": {
        "id": "hnv9FCdTW8T_"
      },
      "source": [
        "from catalyst.dl import AccuracyCallback\n",
        "\n",
        "\n",
        "runner.train(\n",
        "    model=model,\n",
        "    optimizer=optimizer,\n",
        "    criterion=criterion,\n",
        "    callbacks=[\n",
        "        AccuracyCallback(input_key=\"logits\", target_key = \"targets\"),\n",
        "    ],\n",
        "    loaders=loaders,\n",
        "    verbose=True,\n",
        "    num_epochs=10,\n",
        "    logdir=logdir,\n",
        ")"
      ],
      "execution_count": null,
      "outputs": []
    },
    {
      "cell_type": "code",
      "metadata": {
        "id": "uyJcXzvEMKcB"
      },
      "source": [
        ""
      ],
      "execution_count": null,
      "outputs": []
    }
  ]
}