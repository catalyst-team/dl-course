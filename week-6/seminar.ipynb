{
 "cells": [
  {
   "cell_type": "code",
   "execution_count": null,
   "metadata": {},
   "outputs": [],
   "source": [
    "!pip install -U catalyst==20.12"
   ]
  },
  {
   "cell_type": "markdown",
   "metadata": {},
   "source": [
    "# Variational AutoEncoders\n",
    "\n",
    "Hi! Today we are going to learn about variationals autoencoders. We'll code them to encode handwritten numbers and restore them from the compact vector representation."
   ]
  },
  {
   "cell_type": "code",
   "execution_count": null,
   "metadata": {},
   "outputs": [],
   "source": [
    "from catalyst.utils import set_global_seed, get_device\n",
    "\n",
    "\n",
    "set_global_seed(42)\n",
    "device = get_device()"
   ]
  },
  {
   "cell_type": "markdown",
   "metadata": {},
   "source": [
    "We'll work with `MNIST` dataset. Download it, show examples of the writting and prepare the dataset to be loaded into models."
   ]
  },
  {
   "cell_type": "code",
   "execution_count": null,
   "metadata": {},
   "outputs": [],
   "source": [
    "from catalyst.contrib.datasets import mnist\n",
    "\n",
    "\n",
    "train = mnist.MNIST(\".\", train=True, download=True)\n",
    "valid = mnist.MNIST(\".\", train=False, download=True)"
   ]
  },
  {
   "cell_type": "code",
   "execution_count": null,
   "metadata": {},
   "outputs": [],
   "source": [
    "import matplotlib.pyplot as plt\n",
    "\n",
    "\n",
    "_, axs = plt.subplots(4, 4, figsize=(10, 10))\n",
    "\n",
    "for i in range(16):\n",
    "    axs[i // 4][i % 4].imshow(train[100 * i + i][0])"
   ]
  },
  {
   "cell_type": "code",
   "execution_count": null,
   "metadata": {},
   "outputs": [],
   "source": [
    "import torch\n",
    "import torch.nn as nn"
   ]
  },
  {
   "cell_type": "code",
   "execution_count": null,
   "metadata": {},
   "outputs": [],
   "source": [
    "from catalyst.utils import get_loader\n",
    "\n",
    "\n",
    "batch_size = 256\n",
    "num_workers = 4\n",
    "\n",
    "def transform(x):\n",
    "    image = torch.FloatTensor(x[\"image\"])\n",
    "    image = ... # Use torch.where, to replace 256 values to ones or zeros\n",
    "    return {'image': image, \"targets\": x[\"targets\"]}\n",
    "\n",
    "\n",
    "train_data_loader = get_loader(\n",
    "    train,\n",
    "    open_fn=lambda x : {'image': x[0].reshape(1, 28, 28), 'targets': x[1]},\n",
    "    dict_transform=transform,\n",
    "    batch_size=batch_size,\n",
    "    num_workers=num_workers,\n",
    "    shuffle=True,\n",
    "    sampler=None,\n",
    "    drop_last=True,\n",
    ")\n",
    "\n",
    "valid_data_loader = get_loader(\n",
    "    valid,\n",
    "    open_fn=lambda x : {'image': x[0].reshape(1, 28, 28), 'targets': x[1]},\n",
    "    dict_transform=transform,\n",
    "    batch_size=batch_size,\n",
    "    num_workers=num_workers,\n",
    "    shuffle=False,\n",
    "    sampler=None,\n",
    "    drop_last=False,\n",
    ")"
   ]
  },
  {
   "cell_type": "markdown",
   "metadata": {},
   "source": [
    "A variational autoencoder consists of two parts: encoder and decoder. The encoder shrinks objects into some vector. The decoder generates an proximate an \"image\" of object. In our case, objects are images. We will use CNNs for encoding images and UpScale Convolution operations for decoding."
   ]
  },
  {
   "cell_type": "code",
   "execution_count": null,
   "metadata": {},
   "outputs": [],
   "source": [
    "class Encoder(nn.Module):\n",
    "    def __init__(self, latent_size=2):\n",
    "        super().__init__()\n",
    "\n",
    "        # Create encoder model!\n",
    "        self.feature_extractor = ...\n",
    "        self.latent_space = ...\n",
    "        \n",
    "        self.latent_size = latent_size\n",
    "        \n",
    "    def forward(self, images):\n",
    "        features = self.feature_extractor(images)\n",
    "        latent = self.latent_space(features)\n",
    "        return latent[:, :self.latent_size], latent[:, self.latent_size:]"
   ]
  },
  {
   "cell_type": "code",
   "execution_count": null,
   "metadata": {},
   "outputs": [],
   "source": [
    "from catalyst.contrib.nn.modules import Lambda\n",
    "\n",
    "\n",
    "class Decoder(nn.Module):\n",
    "    def __init__(self, image_size=(28, 28), latent_size=2):\n",
    "        super().__init__()\n",
    "        \n",
    "        self.image_size = image_size\n",
    "        self.latent_size = latent_size\n",
    "\n",
    "        # Create Decoder model!\n",
    "        self.map_generator = ...\n",
    "        self.deconv = ...\n",
    "        self.output = ...\n",
    "            \n",
    "    def forward(self, points):\n",
    "        feature_map = self.map_generator(points)\n",
    "        feature_map = self.deconv(feature_map)\n",
    "        return self.output(feature_map)\n",
    "            \n",
    "    def make_up_layer_(self, in_channels, out_channels):\n",
    "        return ..."
   ]
  },
  {
   "cell_type": "markdown",
   "metadata": {},
   "source": [
    "Joint the encoder and decoder to create VAE! We have discussed in the lecture about it, and we knew how to train VAE. We need sample points in latent space, pass them forward through the decoder and compare a decoder result with original object. Also we should sample points from some normal distribution, which parameters approach to $(0, I)$."
   ]
  },
  {
   "cell_type": "code",
   "execution_count": null,
   "metadata": {},
   "outputs": [],
   "source": [
    "LOG_SCALE_MAX = 2\n",
    "LOG_SCALE_MIN = -10\n",
    "\n",
    "def normal_sample(loc, log_scale):\n",
    "    scale = torch.exp(0.5 * log_scale)\n",
    "    return loc + scale * torch.randn_like(scale)\n",
    "\n",
    "\n",
    "class VAE(nn.Module):\n",
    "    def __init__(self, image_size=(28, 28), latent_size=2):\n",
    "        super().__init__()\n",
    "\n",
    "        self.encoder = Encoder(latent_size)\n",
    "        self.decoder = Decoder(image_size, latent_size)\n",
    "        \n",
    "    def forward(self, images):\n",
    "        loc, log_scale = ... # get loc and scale for sampling\n",
    "        log_scale = torch.clamp(log_scale, LOG_SCALE_MIN, LOG_SCALE_MAX)\n",
    "\n",
    "        z_ = normal_sample(loc, log_scale) if self.training else loc\n",
    "        x_ = ... # recreate object from z_\n",
    "\n",
    "        return {\n",
    "            \"decoder_result\": x_,\n",
    "            \"loc\": loc,\n",
    "            \"log_scale\": log_scale\n",
    "        }"
   ]
  },
  {
   "cell_type": "code",
   "execution_count": null,
   "metadata": {},
   "outputs": [],
   "source": [
    "class KLVAELoss(nn.Module):\n",
    "    def __init__(self):\n",
    "        super().__init__()\n",
    "    \n",
    "    def forward(self, loc, log_scale):\n",
    "        return (-0.5 * torch.sum(1 + log_scale - loc.pow(2) - log_scale.exp(), dim=1)).mean()"
   ]
  },
  {
   "cell_type": "markdown",
   "metadata": {},
   "source": [
    "We need to modify `BinaryCrossEntropyLoss` function, because it doesn't work properly with images."
   ]
  },
  {
   "cell_type": "code",
   "execution_count": null,
   "metadata": {},
   "outputs": [],
   "source": [
    "class ImageCELoss(nn.BCEWithLogitsLoss):\n",
    "    def __init__(self):\n",
    "        super().__init__()\n",
    "        \n",
    "    def forward(self, input, target):\n",
    "        input = ... # reshape input to (batch_size * ...)\n",
    "        target = ... # reshape target to (batch_size * ...)\n",
    "        return super().forward(input, target)"
   ]
  },
  {
   "cell_type": "markdown",
   "metadata": {},
   "source": [
    "To monitor decoded images, we have to write a new callback function. It will log image into the tensorboard."
   ]
  },
  {
   "cell_type": "code",
   "execution_count": null,
   "metadata": {},
   "outputs": [],
   "source": [
    "from catalyst.core import Callback, CallbackOrder\n",
    "\n",
    "\n",
    "class LogFigureCallback(Callback):\n",
    "    def __init__(self):\n",
    "        super().__init__(CallbackOrder.External)\n",
    "\n",
    "    def on_epoch_end(self, runner):\n",
    "        if runner.is_valid_loader:\n",
    "            tb_callback = runner.callbacks[\"_tensorboard\"]\n",
    "            logger = tb_callback.loggers[runner.loader_name]\n",
    "            decoder_result = runner.output[\"decoder_result\"]\n",
    "            logger.add_images(\n",
    "                \"image/epoch\", \n",
    "                ... # create image from decoder result\n",
    "                global_step=runner.epoch\n",
    "            )"
   ]
  },
  {
   "cell_type": "markdown",
   "metadata": {},
   "source": [
    "Create model, criterion, optimizer. Train model!"
   ]
  },
  {
   "cell_type": "code",
   "execution_count": null,
   "metadata": {},
   "outputs": [],
   "source": [
    "from catalyst.contrib.nn.optimizers import RAdam\n",
    "\n",
    "\n",
    "model = VAE()\n",
    "criterion = {\n",
    "    \"ae\": ImageCELoss(),\n",
    "    \"kl\": KLVAELoss()\n",
    "}\n",
    "optimizer = RAdam(model.parameters(), lr=1e-2)"
   ]
  },
  {
   "cell_type": "code",
   "execution_count": null,
   "metadata": {},
   "outputs": [],
   "source": [
    "from catalyst import dl\n",
    "\n",
    "\n",
    "callbacks = [\n",
    "    dl.CriterionCallback(\n",
    "        input_key=\"features\", output_key=\"decoder_result\", prefix=\"loss_ae\", criterion_key=\"ae\",\n",
    "    ),\n",
    "    dl.CriterionCallback(\n",
    "        input_key=None, output_key=[\"loc\", \"log_scale\"], prefix=\"loss_kl\", criterion_key=\"kl\"\n",
    "    ),\n",
    "    dl.MetricAggregationCallback(\n",
    "        prefix=\"loss\",\n",
    "        mode=\"weighted_sum\",\n",
    "        metrics={\"loss_ae\": 1.0, \"loss_kl\": 0.01},\n",
    "    ),\n",
    "    LogFigureCallback(),\n",
    "]"
   ]
  },
  {
   "cell_type": "code",
   "execution_count": null,
   "metadata": {},
   "outputs": [],
   "source": [
    "class VAERunner(dl.SupervisedRunner):\n",
    "    def predict_batch(self, batch):\n",
    "        prediction = {\"features\": batch[\"image\"], \"targets\": batch[\"targets\"]}\n",
    "        prediction.update(self.model(batch[\"image\"]))\n",
    "        return prediction\n",
    "    \n",
    "    def _handle_batch(self, batch):\n",
    "        self.input = {\"features\": batch[\"image\"], \"targets\": batch[\"targets\"]}\n",
    "        self.output = self.model(batch[\"image\"])\n",
    "\n",
    "\n",
    "runner = VAERunner(device=device)"
   ]
  },
  {
   "cell_type": "code",
   "execution_count": null,
   "metadata": {},
   "outputs": [],
   "source": [
    "from datetime import datetime\n",
    "from pathlib import Path\n",
    "\n",
    "\n",
    "logdir = Path(\"logs\") / datetime.now().strftime(\"%Y%m%d-%H%M%S\")\n",
    "\n",
    "# %reload_ext tensorboard\n",
    "# %tensorboard --logdir logs"
   ]
  },
  {
   "cell_type": "code",
   "execution_count": null,
   "metadata": {},
   "outputs": [],
   "source": [
    "runner.train(\n",
    "    model=model,\n",
    "    optimizer=optimizer,\n",
    "    criterion=criterion,\n",
    "    loaders={\"train\": train_data_loader, \"valid\": valid_data_loader},\n",
    "    callbacks=callbacks,\n",
    "    num_epochs=1,\n",
    "    verbose=True,\n",
    "    logdir=logdir,\n",
    "    main_metric=\"loss_ae\",\n",
    "    minimize_metric=True,\n",
    ")"
   ]
  },
  {
   "cell_type": "markdown",
   "metadata": {},
   "source": [
    "One of the main feature of VAE it's a generating new objects. We can do this by mixing latent representation of objects."
   ]
  },
  {
   "cell_type": "code",
   "execution_count": null,
   "metadata": {},
   "outputs": [],
   "source": [
    "test_data = next(iter(valid_data_loader))\n",
    "test_data[\"targets\"]"
   ]
  },
  {
   "cell_type": "code",
   "execution_count": null,
   "metadata": {},
   "outputs": [],
   "source": [
    "model.eval()\n",
    "locs, _ = ... # get model prediction on test_data"
   ]
  },
  {
   "cell_type": "code",
   "execution_count": null,
   "metadata": {},
   "outputs": [],
   "source": [
    "import numpy as np\n",
    "\n",
    "\n",
    "def plot_transition(i, j):\n",
    "    _, ax = plt.subplots(1, 11, figsize=(15, 5))\n",
    "    \n",
    "    line = np.linspace(0, 1, 11)\n",
    "    for k in range(0, 11):\n",
    "        point = line[k] * locs[j] + (1 - line[k]) * locs[i]\n",
    "        decoded = ... # create image from point\n",
    "        ax[k].imshow(...) # plot decoded!"
   ]
  },
  {
   "cell_type": "code",
   "execution_count": null,
   "metadata": {},
   "outputs": [],
   "source": [
    "plot_transition(0, -3)"
   ]
  },
  {
   "cell_type": "markdown",
   "metadata": {},
   "source": [
    "We can enhance generated images by many ways. And we choose to add classification task. The model will classify object based on the corresponding latent representation."
   ]
  },
  {
   "cell_type": "code",
   "execution_count": null,
   "metadata": {},
   "outputs": [],
   "source": [
    "class VAEClassify(nn.Module):\n",
    "    def __init__(self, num_classes=10, image_size=(28, 28), latent_size=10):\n",
    "        super().__init__()\n",
    "\n",
    "        self.encoder = Encoder(latent_size)\n",
    "        self.decoder = Decoder(image_size, latent_size)\n",
    "        self.clf = ...  # Add classifier\n",
    "        \n",
    "    def forward(self, images):\n",
    "        loc, log_scale = self.encoder(images)\n",
    "        log_scale = torch.clamp(log_scale, LOG_SCALE_MIN, LOG_SCALE_MAX)\n",
    "\n",
    "        z_ = normal_sample(loc, log_scale) if self.training else loc\n",
    "        x_ = self.decoder(z_)\n",
    "\n",
    "        logits = self.clf(z_)\n",
    "        return {\n",
    "            \"logits\": logits, \n",
    "            \"decoder_result\": x_,\n",
    "            \"loc\": loc,\n",
    "            \"log_scale\": log_scale\n",
    "        }"
   ]
  },
  {
   "cell_type": "code",
   "execution_count": null,
   "metadata": {},
   "outputs": [],
   "source": [
    "from catalyst.contrib.nn.optimizers import RAdam\n",
    "\n",
    "\n",
    "model = VAEClassify()\n",
    "criterion = {\n",
    "    \"ce\": nn.CrossEntropyLoss(),\n",
    "    \"ae\": ImageCELoss(),\n",
    "    \"kl\": KLVAELoss()\n",
    "}\n",
    "optimizer = RAdam(model.parameters(), lr=1e-2)"
   ]
  },
  {
   "cell_type": "code",
   "execution_count": null,
   "metadata": {},
   "outputs": [],
   "source": [
    "callbacks = [\n",
    "    dl.CriterionCallback(\n",
    "        input_key=\"features\", output_key=\"decoder_result\", prefix=\"loss_ae\", criterion_key=\"ae\",\n",
    "    ),\n",
    "    dl.CriterionCallback(\n",
    "        input_key=None, output_key=[\"loc\", \"log_scale\"], prefix=\"loss_kl\", criterion_key=\"kl\"\n",
    "    ),\n",
    "    dl.CriterionCallback(\n",
    "        input_key=\"targets\", output_key=\"logits\", prefix=\"loss_ce\", criterion_key=\"ce\",\n",
    "    ),\n",
    "    dl.MetricAggregationCallback(\n",
    "        prefix=\"loss\",\n",
    "        mode=\"weighted_sum\",\n",
    "        metrics={\"loss_ae\": 1.0, \"loss_kl\": 0.01, \"loss_ce\": 1.0},\n",
    "    ),\n",
    "    dl.AccuracyCallback(),\n",
    "    LogFigureCallback(),\n",
    "]"
   ]
  },
  {
   "cell_type": "code",
   "execution_count": null,
   "metadata": {},
   "outputs": [],
   "source": [
    "runner = VAERunner(device=device)\n",
    "\n",
    "runner.train(\n",
    "    model=model,\n",
    "    optimizer=optimizer,\n",
    "    criterion=criterion,\n",
    "    loaders={\"train\": train_data_loader, \"valid\": valid_data_loader},\n",
    "    callbacks=callbacks,\n",
    "    num_epochs=1,\n",
    "    verbose=True,\n",
    "    logdir=Path(\"logs\") / datetime.now().strftime(\"%Y%m%d-%H%M%S\"),\n",
    "    main_metric=\"loss_ae\",\n",
    "    minimize_metric=True,\n",
    ")"
   ]
  },
  {
   "cell_type": "markdown",
   "metadata": {},
   "source": [
    "Let's compare results with the usual VAE."
   ]
  },
  {
   "cell_type": "code",
   "execution_count": null,
   "metadata": {},
   "outputs": [],
   "source": [
    "model.eval()\n",
    "locs, _ = model.encoder(test_data[\"image\"].to(device))"
   ]
  },
  {
   "cell_type": "code",
   "execution_count": null,
   "metadata": {},
   "outputs": [],
   "source": [
    "plot_transition(0, -3)"
   ]
  },
  {
   "cell_type": "markdown",
   "metadata": {},
   "source": [
    "Let's check how our model restore noised objects. The model aren't trained to restore, but it can do this very well."
   ]
  },
  {
   "cell_type": "code",
   "execution_count": null,
   "metadata": {},
   "outputs": [],
   "source": [
    "_, ax = plt.subplots(2, 6, figsize=(10, 4))\n",
    "    \n",
    "for k in range(0, 12):\n",
    "    image = test_data[\"image\"][k]\n",
    "    ax[k // 6][k % 6].imshow(image.squeeze().cpu().detach().numpy())"
   ]
  },
  {
   "cell_type": "code",
   "execution_count": null,
   "metadata": {},
   "outputs": [],
   "source": [
    "_, ax = plt.subplots(2, 6, figsize=(10, 4))\n",
    "    \n",
    "for k in range(0, 12):\n",
    "    image = test_data[\"image\"][k]\n",
    "    noise = ... # let's make some noise\n",
    "    ax[k // 6][k % 6].imshow((image + noise).squeeze().cpu().detach().numpy())"
   ]
  },
  {
   "cell_type": "code",
   "execution_count": null,
   "metadata": {},
   "outputs": [],
   "source": [
    "_, ax = plt.subplots(2, 6, figsize=(10, 4))\n",
    "    \n",
    "for k in range(0, 12):\n",
    "    image = test_data[\"image\"][k]\n",
    "    noise = ... # let's make some noise\n",
    "    point, _ = ... # get noised objects vector representation from latent space\n",
    "    decoded = ... # decode points\n",
    "    ax[k // 6][k % 6].imshow(...) # plot decoded"
   ]
  },
  {
   "cell_type": "markdown",
   "metadata": {},
   "source": [
    "In the end, let's look at the latent space. We choose 2D plain space, so it's easy to plot the points."
   ]
  },
  {
   "cell_type": "code",
   "execution_count": null,
   "metadata": {},
   "outputs": [],
   "source": [
    "predictions = {\"loc\": [], \"target\": []}\n",
    "\n",
    "for pred in runner.predict_loader(loader=valid_data_loader):\n",
    "    ... # Put predicted loc and targets from pred into predictions"
   ]
  },
  {
   "cell_type": "code",
   "execution_count": null,
   "metadata": {},
   "outputs": [],
   "source": [
    "predictions[\"x\"] = [o[0] for o in predictions[\"loc\"]]\n",
    "predictions[\"y\"] = [o[1] for o in predictions[\"loc\"]]"
   ]
  },
  {
   "cell_type": "code",
   "execution_count": null,
   "metadata": {},
   "outputs": [],
   "source": [
    "import seaborn as sns\n",
    "\n",
    "sns.set()\n",
    "\n",
    "# Use sns.scatterplot to show points !"
   ]
  }
 ],
 "metadata": {
  "kernelspec": {
   "display_name": "Python 3",
   "language": "python",
   "name": "python3"
  },
  "language_info": {
   "codemirror_mode": {
    "name": "ipython",
    "version": 3
   },
   "file_extension": ".py",
   "mimetype": "text/x-python",
   "name": "python",
   "nbconvert_exporter": "python",
   "pygments_lexer": "ipython3",
   "version": "3.7.7"
  }
 },
 "nbformat": 4,
 "nbformat_minor": 4
}
