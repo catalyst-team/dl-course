{
 "cells": [
  {
   "cell_type": "code",
   "execution_count": null,
   "metadata": {},
   "outputs": [],
   "source": [
    "!pip -q install catalyst==20.12 transformers datasets nlpaug"
   ]
  },
  {
   "cell_type": "markdown",
   "metadata": {},
   "source": [
    "# Seminar\n",
    "Hi! Today we are build simple pipeline for a sentiment analysis task. Our target dataset will be IMDB, that contains movie reviews. We try to solve the task by transformer model."
   ]
  },
  {
   "cell_type": "code",
   "execution_count": null,
   "metadata": {},
   "outputs": [],
   "source": [
    "from catalyst.utils import set_global_seed, get_device\n",
    "\n",
    "\n",
    "set_global_seed(42)\n",
    "device = get_device()"
   ]
  },
  {
   "cell_type": "markdown",
   "metadata": {},
   "source": [
    "To work with dataset we use [datasets](https://github.com/huggingface/datasets) by 🤗 `huggingface`. It can work with a custom dataset. But the dataset \"IMDB\" will be downloaded:"
   ]
  },
  {
   "cell_type": "code",
   "execution_count": null,
   "metadata": {},
   "outputs": [],
   "source": [
    "from datasets import load_dataset\n",
    "\n",
    "\n",
    "imdb_dataset = load_dataset(\"imdb\")"
   ]
  },
  {
   "cell_type": "markdown",
   "metadata": {},
   "source": [
    "Look at the dataset methods and features:"
   ]
  },
  {
   "cell_type": "code",
   "execution_count": null,
   "metadata": {},
   "outputs": [],
   "source": [
    "imdb_dataset"
   ]
  },
  {
   "cell_type": "code",
   "execution_count": null,
   "metadata": {},
   "outputs": [],
   "source": [
    "imdb_dataset[\"train\"][0]"
   ]
  },
  {
   "cell_type": "code",
   "execution_count": null,
   "metadata": {},
   "outputs": [],
   "source": [
    "test = imdb_dataset[\"train\"][0][\"text\"]"
   ]
  },
  {
   "cell_type": "markdown",
   "metadata": {},
   "source": [
    "To tokenize texts, we will use pretrained BPE tokenizer."
   ]
  },
  {
   "cell_type": "code",
   "execution_count": null,
   "metadata": {},
   "outputs": [],
   "source": [
    "from transformers import BertTokenizer\n",
    "\n",
    "\n",
    "tokenizer = BertTokenizer.from_pretrained(\"google/bert_uncased_L-6_H-256_A-4\")"
   ]
  },
  {
   "cell_type": "markdown",
   "metadata": {},
   "source": [
    "Examples of text tokenization, encoding, etc:"
   ]
  },
  {
   "cell_type": "code",
   "execution_count": null,
   "metadata": {},
   "outputs": [],
   "source": [
    "print(tokenizer.tokenize(test))"
   ]
  },
  {
   "cell_type": "code",
   "execution_count": null,
   "metadata": {},
   "outputs": [],
   "source": [
    "print(tokenizer.encode(test))"
   ]
  },
  {
   "cell_type": "markdown",
   "metadata": {},
   "source": [
    "Tokenizer has additional functions to create attention masks, get offsets mapping or token types to train transformer models."
   ]
  },
  {
   "cell_type": "code",
   "execution_count": null,
   "metadata": {},
   "outputs": [],
   "source": [
    "print(tokenizer.encode_plus(test))"
   ]
  },
  {
   "cell_type": "code",
   "execution_count": null,
   "metadata": {},
   "outputs": [],
   "source": [
    "print(tokenizer.encode_plus(test, max_length=64, truncation=True, padding=\"max_length\"))"
   ]
  },
  {
   "cell_type": "markdown",
   "metadata": {},
   "source": [
    "Tokenizer can change return type."
   ]
  },
  {
   "cell_type": "code",
   "execution_count": null,
   "metadata": {},
   "outputs": [],
   "source": [
    "print(tokenizer.encode_plus(test, max_length=64, truncation=True, padding=\"max_length\", return_tensors=\"pt\"))"
   ]
  },
  {
   "cell_type": "markdown",
   "metadata": {},
   "source": [
    "Use information about tokenizer, create train_dataloader."
   ]
  },
  {
   "cell_type": "code",
   "execution_count": null,
   "metadata": {},
   "outputs": [],
   "source": [
    "import torch\n",
    "\n",
    "from catalyst.utils import get_loader\n",
    "\n",
    "\n",
    "def text_data_transforms(row):\n",
    "    tokens = ... # Get tokens\n",
    "    tokens = {k: v[0] for k, v in tokens.items()}\n",
    "    tokens.update({\"targets\": row[\"label\"]})\n",
    "    return tokens\n",
    "    \n",
    "\n",
    "train_dataloader = get_loader(\n",
    "    imdb_dataset[\"train\"],\n",
    "    open_fn=lambda x: x,\n",
    "    dict_transform=text_data_transforms,\n",
    "    batch_size=256,\n",
    "    num_workers=4,\n",
    "    shuffle=True,\n",
    "    drop_last=True,\n",
    ")\n",
    "\n",
    "valid_dataloader = get_loader(\n",
    "    imdb_dataset[\"test\"],\n",
    "    open_fn=lambda x: x,\n",
    "    dict_transform=text_data_transforms,\n",
    "    batch_size=256,\n",
    "    num_workers=4,\n",
    "    shuffle=True,\n",
    "    drop_last=True,\n",
    ")"
   ]
  },
  {
   "cell_type": "code",
   "execution_count": null,
   "metadata": {},
   "outputs": [],
   "source": [
    "loaders = {\n",
    "    \"train\": train_dataloader,\n",
    "    \"valid\": valid_dataloader\n",
    "}"
   ]
  },
  {
   "cell_type": "markdown",
   "metadata": {},
   "source": [
    "Load BERT model for SequenceClassification. We need models smaller, than `bert-uncased-base`. List of the all model: [model names](https://huggingface.co/models)."
   ]
  },
  {
   "cell_type": "code",
   "execution_count": null,
   "metadata": {},
   "outputs": [],
   "source": [
    "from transformers import BertForSequenceClassification\n",
    "\n",
    "\n",
    "model = BertForSequenceClassification.from_pretrained(\"google/bert_uncased_L-6_H-256_A-4\")"
   ]
  },
  {
   "cell_type": "markdown",
   "metadata": {},
   "source": [
    "Usual train code:"
   ]
  },
  {
   "cell_type": "code",
   "execution_count": null,
   "metadata": {},
   "outputs": [],
   "source": [
    "from catalyst.contrib.nn import RAdam\n",
    "from torch.nn import CrossEntropyLoss\n",
    "\n",
    "\n",
    "optimizer = RAdam(model.parameters(), lr=2e-4)\n",
    "criterion = CrossEntropyLoss()"
   ]
  },
  {
   "cell_type": "code",
   "execution_count": null,
   "metadata": {},
   "outputs": [],
   "source": [
    "from datetime import datetime\n",
    "from pathlib import Path\n",
    "\n",
    "\n",
    "logdir=Path(\"logs\") / datetime.now().strftime(\"%Y%m%d-%H%M%S\")"
   ]
  },
  {
   "cell_type": "code",
   "execution_count": null,
   "metadata": {},
   "outputs": [],
   "source": [
    "from catalyst.dl import SupervisedRunner\n",
    "\n",
    "\n",
    "class BertRunner(SupervisedRunner):\n",
    "    def _handle_batch(self, batch):\n",
    "        self.input = batch\n",
    "        self.output = self.model(**{k: batch[k] for k in self.input_key}, return_dict=True)\n",
    "\n",
    "\n",
    "runner = BertRunner(input_key=[\"input_ids\", \"attention_mask\"], device=device)"
   ]
  },
  {
   "cell_type": "code",
   "execution_count": null,
   "metadata": {},
   "outputs": [],
   "source": [
    "from catalyst.dl import AccuracyCallback\n",
    "\n",
    "\n",
    "runner.train(\n",
    "    model=model,\n",
    "    optimizer=optimizer,\n",
    "    criterion=criterion,\n",
    "    loaders=loaders,\n",
    "    logdir=logdir,\n",
    "    num_epochs=3,\n",
    "    verbose=True,\n",
    "    callbacks=[AccuracyCallback(num_classes=2)],\n",
    ")"
   ]
  },
  {
   "cell_type": "markdown",
   "metadata": {},
   "source": [
    "## Text Augmentation\n",
    "\n",
    "To improve our sentiment analyser, we need more data. One way to get new samples is data augmentation methods. For text we can change characters, words or sentences. Our tool for text augmentation will be [nlpaug](https://github.com/makcedward/nlpaug) library. \n",
    "\n",
    "Our example is a little simple sentence:"
   ]
  },
  {
   "cell_type": "code",
   "execution_count": null,
   "metadata": {},
   "outputs": [],
   "source": [
    "import nlpaug.augmenter.char as nac\n",
    "import nlpaug.augmenter.word as naw\n",
    "\n",
    "text = 'The quick brown fox jumps over the lazy dog .'\n",
    "print(text)"
   ]
  },
  {
   "cell_type": "markdown",
   "metadata": {},
   "source": [
    "Let's try to change characters by random. Probabilities of swaping between two characters are made by keybord distance (on QWERTY keybord)."
   ]
  },
  {
   "cell_type": "code",
   "execution_count": null,
   "metadata": {},
   "outputs": [],
   "source": [
    "aug = nac.KeyboardAug()\n",
    "augmented_text = aug.augment(text)\n",
    "print(\"Original:\")\n",
    "print(text)\n",
    "print(\"Augmented Text:\")\n",
    "print(augmented_text)"
   ]
  },
  {
   "cell_type": "markdown",
   "metadata": {},
   "source": [
    "Another way to change sentence is a replacing a word with its synonim:"
   ]
  },
  {
   "cell_type": "code",
   "execution_count": null,
   "metadata": {},
   "outputs": [],
   "source": [
    "aug = naw.SynonymAug(action=\"substitute\")\n",
    "augmented_text = aug.augment(text)\n",
    "print(\"Original:\")\n",
    "print(text)\n",
    "print(\"Augmented Text:\")\n",
    "print(augmented_text)"
   ]
  },
  {
   "cell_type": "markdown",
   "metadata": {},
   "source": [
    "More accurate way to swap words can be done by pretrained Language Model. We can work with BERT-like models. "
   ]
  },
  {
   "cell_type": "code",
   "execution_count": null,
   "metadata": {},
   "outputs": [],
   "source": [
    "aug = naw.ContextualWordEmbsAug(\n",
    "    model_path='bert-base-uncased', \n",
    "    action=\"substitute\"\n",
    ")\n",
    "augmented_text = aug.augment(text)\n",
    "print(\"Original:\")\n",
    "print(text)\n",
    "print(\"Augmented Text:\")\n",
    "print(augmented_text)"
   ]
  },
  {
   "cell_type": "markdown",
   "metadata": {},
   "source": [
    "In our seminar, we try to work with smaller version of BERT:"
   ]
  },
  {
   "cell_type": "code",
   "execution_count": null,
   "metadata": {},
   "outputs": [],
   "source": [
    "aug = naw.ContextualWordEmbsAug(model_path='google/bert_uncased_L-2_H-128_A-2', action=\"substitute\")"
   ]
  },
  {
   "cell_type": "markdown",
   "metadata": {},
   "source": [
    "Create a new `dict_transform` function. It need to work with text and change it."
   ]
  },
  {
   "cell_type": "code",
   "execution_count": null,
   "metadata": {},
   "outputs": [],
   "source": [
    "def aug_text_data_transforms(row):\n",
    "    # Because this augmentation is pretty slow\n",
    "    # we need to truncate working text.\n",
    "    # It's better to generate examples offline,\n",
    "    # and than fit a model with the bigger dataset.\n",
    "    sentence = ... # get augmented text\n",
    "    tokens = ... # get tokens\n",
    "    tokens = {k: v[0] for k, v in tokens.items()}\n",
    "    tokens.update({\"targets\": row[\"label\"]})\n",
    "    return tokens\n",
    "\n",
    "\n",
    "aug_train_dataloader = get_loader(\n",
    "    imdb_dataset[\"train\"],\n",
    "    open_fn=lambda x: x,\n",
    "    dict_transform=aug_text_data_transforms,\n",
    "    batch_size=256,\n",
    "    num_workers=32,\n",
    "    shuffle=True,\n",
    "    drop_last=True,\n",
    ")"
   ]
  },
  {
   "cell_type": "code",
   "execution_count": null,
   "metadata": {},
   "outputs": [],
   "source": [
    "aug_loaders = {\n",
    "    \"train\": aug_train_dataloader,\n",
    "    \"valid\": valid_dataloader\n",
    "}"
   ]
  },
  {
   "cell_type": "code",
   "execution_count": null,
   "metadata": {},
   "outputs": [],
   "source": [
    "model = BertForSequenceClassification.from_pretrained(\"google/bert_uncased_L-6_H-256_A-4\")\n",
    "optimizer = RAdam(model.parameters(), lr=2e-4)\n",
    "criterion = CrossEntropyLoss()"
   ]
  },
  {
   "cell_type": "code",
   "execution_count": null,
   "metadata": {},
   "outputs": [],
   "source": [
    "logdir=Path(\"logs\") / datetime.now().strftime(\"%Y%m%d-%H%M%S\")\n",
    "runner = BertRunner(input_key=[\"input_ids\", \"attention_mask\"], device=device)\n",
    "runner.train(\n",
    "    model=model,\n",
    "    optimizer=optimizer,\n",
    "    criterion=criterion,\n",
    "    loaders=aug_loaders,\n",
    "    logdir=logdir,\n",
    "    num_epochs=3,\n",
    "    verbose=True,\n",
    "    callbacks=[AccuracyCallback(num_classes=2)],\n",
    ")"
   ]
  },
  {
   "cell_type": "markdown",
   "metadata": {},
   "source": [
    "**Note** \n",
    "\n",
    "The best method of text data augmentation is Back Translation. But we need trained model from one language to another to work. `nlpaug` uses huge transfomer models (~ 10Gb), that why I don't use them in the seminar."
   ]
  },
  {
   "cell_type": "markdown",
   "metadata": {},
   "source": [
    "## Domain adaptation\n",
    "\n",
    "Instead of adding new examples by Data Augmentation, we can add new example from similar task. The Sentiment Analysis task has several datasets, like SST-2, YELP, AMAZON-Review. To increase the model performance, try to add some samples from SST-2 dataset:"
   ]
  },
  {
   "cell_type": "code",
   "execution_count": null,
   "metadata": {},
   "outputs": [],
   "source": [
    "sst_dataset = load_dataset(\"glue\", \"sst2\", split=\"train[:10%]\")"
   ]
  },
  {
   "cell_type": "code",
   "execution_count": null,
   "metadata": {},
   "outputs": [],
   "source": [
    "sst_dataset[0]"
   ]
  },
  {
   "cell_type": "markdown",
   "metadata": {},
   "source": [
    "Prepare text and train a model:"
   ]
  },
  {
   "cell_type": "code",
   "execution_count": null,
   "metadata": {},
   "outputs": [],
   "source": [
    "def sst_text_data_transforms(row):\n",
    "    tokens = ... # get tokens\n",
    "    tokens = {k: v[0] for k, v in tokens.items()}\n",
    "    tokens.update({\"targets\": row[\"label\"]})\n",
    "    return tokens\n",
    "\n",
    "sst_train_dataloader = get_loader(\n",
    "    sst_dataset,\n",
    "    open_fn=lambda x: x,\n",
    "    dict_transform=sst_text_data_transforms,\n",
    "    batch_size=256,\n",
    "    num_workers=4,\n",
    "    shuffle=True,\n",
    "    drop_last=True,\n",
    ")\n",
    "\n",
    "\n",
    "sst_loaders = {\n",
    "    \"train\": sst_train_dataloader,\n",
    "}"
   ]
  },
  {
   "cell_type": "code",
   "execution_count": null,
   "metadata": {},
   "outputs": [],
   "source": [
    "model = BertForSequenceClassification.from_pretrained(\"google/bert_uncased_L-6_H-256_A-4\")\n",
    "optimizer = RAdam(model.parameters(), lr=2e-4)\n",
    "criterion = CrossEntropyLoss()"
   ]
  },
  {
   "cell_type": "code",
   "execution_count": null,
   "metadata": {},
   "outputs": [],
   "source": [
    "logdir=Path(\"logs\") / datetime.now().strftime(\"%Y%m%d-%H%M%S\")\n",
    "runner = BertRunner(input_key=[\"input_ids\", \"attention_mask\"], device=device)\n",
    "runner.train(\n",
    "    model=model,\n",
    "    optimizer=optimizer,\n",
    "    criterion=criterion,\n",
    "    loaders=sst_loaders,\n",
    "    logdir=logdir,\n",
    "    num_epochs=3,\n",
    "    verbose=True,\n",
    "    callbacks=[AccuracyCallback(num_classes=2)],\n",
    ")"
   ]
  },
  {
   "cell_type": "markdown",
   "metadata": {},
   "source": [
    "Retrain our model on target dataset (IMDB):"
   ]
  },
  {
   "cell_type": "code",
   "execution_count": null,
   "metadata": {},
   "outputs": [],
   "source": [
    "runner.train(\n",
    "    model=model,\n",
    "    optimizer=optimizer,\n",
    "    criterion=criterion,\n",
    "    loaders=loaders,\n",
    "    logdir=logdir,\n",
    "    num_epochs=3,\n",
    "    verbose=True,\n",
    "    callbacks=[AccuracyCallback(num_classes=2)],\n",
    ")"
   ]
  },
  {
   "cell_type": "markdown",
   "metadata": {},
   "source": [
    "Training model on randomly choosen samples haven't lead us to better perfomance. So, we need to find useful examples. To do this, we will use pretrained BERT model to get vector representation for each sample. We will compare vectors from the source dataset (SST-2) and the target dataset (IMDB) by cosine metric. Finally, we'll select examples from the source, that has the highest metric."
   ]
  },
  {
   "cell_type": "code",
   "execution_count": null,
   "metadata": {},
   "outputs": [],
   "source": [
    "sst_dataset = load_dataset(\"glue\", \"sst2\", split=\"train\")"
   ]
  },
  {
   "cell_type": "code",
   "execution_count": null,
   "metadata": {},
   "outputs": [],
   "source": [
    "from transformers import BertModel\n",
    "\n",
    "\n",
    "model = BertModel.from_pretrained(\"google/bert_uncased_L-2_H-256_A-4\").to(device)"
   ]
  },
  {
   "cell_type": "code",
   "execution_count": null,
   "metadata": {},
   "outputs": [],
   "source": [
    "from tqdm.notebook import tqdm\n",
    "\n",
    "\n",
    "imdb_vectors = []\n",
    "\n",
    "\n",
    "with torch.no_grad():\n",
    "    for row in tqdm(imdb_dataset[\"train\"]):\n",
    "        row = text_data_transforms(row)\n",
    "        vector = model(\n",
    "            input_ids=row[\"input_ids\"].unsqueeze(0).to(device), \n",
    "            attention_mask=row[\"attention_mask\"].unsqueeze(0).to(device)\n",
    "        )[0][0, 0].cpu().numpy()\n",
    "        imdb_vectors.append(vector)\n",
    "        \n",
    "imdb_vectors = np.array(imdb_vectors)"
   ]
  },
  {
   "cell_type": "code",
   "execution_count": null,
   "metadata": {},
   "outputs": [],
   "source": [
    "import numpy as np\n",
    "\n",
    "\n",
    "imdb_vectors_norm = ... # normalize vectors"
   ]
  },
  {
   "cell_type": "code",
   "execution_count": null,
   "metadata": {},
   "outputs": [],
   "source": [
    "sst_scores = []\n",
    "\n",
    "with torch.no_grad():\n",
    "    for row in tqdm(sst_dataset):\n",
    "        row = sst_text_data_transforms(row)\n",
    "        vector = model(\n",
    "            input_ids=row[\"input_ids\"].unsqueeze(0).to(device), \n",
    "            attention_mask=row[\"attention_mask\"].unsqueeze(0).to(device)\n",
    "        )[0][0, 0].cpu().numpy()\n",
    "        ... # calculate cosine metric and append it to sst_scores"
   ]
  },
  {
   "cell_type": "markdown",
   "metadata": {},
   "source": [
    "Look at the scores distribution."
   ]
  },
  {
   "cell_type": "code",
   "execution_count": null,
   "metadata": {},
   "outputs": [],
   "source": [
    "import matplotlib.pyplot as plt\n",
    "\n",
    "\n",
    "plt.hist(sst_scores)"
   ]
  },
  {
   "cell_type": "markdown",
   "metadata": {},
   "source": [
    "Our values are located in the interval from `0.3` to `0.8`. Choose threshold value to filter SST-2 samples:"
   ]
  },
  {
   "cell_type": "code",
   "execution_count": null,
   "metadata": {},
   "outputs": [],
   "source": [
    "thr = ... # set threshold\n",
    "\n",
    "indeces = [i for i, value in enumerate(sst_scores) if value > thr]"
   ]
  },
  {
   "cell_type": "markdown",
   "metadata": {},
   "source": [
    "Repeat the model training procedure."
   ]
  },
  {
   "cell_type": "code",
   "execution_count": null,
   "metadata": {},
   "outputs": [],
   "source": [
    "sst_train_dataloader = get_loader(\n",
    "    sst_dataset.select(indeces),\n",
    "    open_fn=lambda x: x,\n",
    "    dict_transform=sst_text_data_transforms,\n",
    "    batch_size=256,\n",
    "    num_workers=4,\n",
    "    shuffle=True,\n",
    "    drop_last=True,\n",
    ")\n",
    "\n",
    "\n",
    "sst_loaders = {\n",
    "    \"train\": sst_train_dataloader,\n",
    "}"
   ]
  },
  {
   "cell_type": "code",
   "execution_count": null,
   "metadata": {},
   "outputs": [],
   "source": [
    "model = BertForSequenceClassification.from_pretrained(\"google/bert_uncased_L-6_H-256_A-4\")\n",
    "optimizer = RAdam(model.parameters(), lr=2e-4)\n",
    "criterion = CrossEntropyLoss()"
   ]
  },
  {
   "cell_type": "code",
   "execution_count": null,
   "metadata": {},
   "outputs": [],
   "source": [
    "logdir=Path(\"logs\") / datetime.now().strftime(\"%Y%m%d-%H%M%S\")\n",
    "runner = BertRunner(input_key=[\"input_ids\", \"attention_mask\"], device=device)\n",
    "runner.train(\n",
    "    model=model,\n",
    "    optimizer=optimizer,\n",
    "    criterion=criterion,\n",
    "    loaders=sst_loaders,\n",
    "    logdir=logdir,\n",
    "    num_epochs=3,\n",
    "    verbose=True,\n",
    "    callbacks=[AccuracyCallback(num_classes=2)],\n",
    ")"
   ]
  },
  {
   "cell_type": "code",
   "execution_count": null,
   "metadata": {},
   "outputs": [],
   "source": [
    "runner.train(\n",
    "    model=model,\n",
    "    optimizer=optimizer,\n",
    "    criterion=criterion,\n",
    "    loaders=loaders,\n",
    "    logdir=logdir,\n",
    "    num_epochs=3,\n",
    "    verbose=True,\n",
    "    callbacks=[AccuracyCallback(num_classes=2)],\n",
    ")"
   ]
  },
  {
   "cell_type": "code",
   "execution_count": null,
   "metadata": {},
   "outputs": [],
   "source": []
  }
 ],
 "metadata": {
  "kernelspec": {
   "display_name": "Python 3",
   "language": "python",
   "name": "python3"
  },
  "language_info": {
   "codemirror_mode": {
    "name": "ipython",
    "version": 3
   },
   "file_extension": ".py",
   "mimetype": "text/x-python",
   "name": "python",
   "nbconvert_exporter": "python",
   "pygments_lexer": "ipython3",
   "version": "3.7.7"
  }
 },
 "nbformat": 4,
 "nbformat_minor": 4
}
